{
 "cells": [
  {
   "cell_type": "markdown",
   "source": [
    "#Trajectory SAPT Analysis\n",
    "Proof of concept for calculating SAPT energies with psi4 over a trajectory loaded in MDAnalysis\n",
    "###Imports"
   ],
   "metadata": {
    "collapsed": false
   }
  },
  {
   "cell_type": "code",
   "execution_count": 4,
   "outputs": [],
   "source": [
    "import MDAnalysis as mda\n",
    "import psi4\n",
    "import matplotlib.pyplot as plt"
   ],
   "metadata": {
    "collapsed": false,
    "pycharm": {
     "name": "#%%\n"
    }
   }
  },
  {
   "cell_type": "markdown",
   "source": [
    "###Defining SAPT calculator function"
   ],
   "metadata": {
    "collapsed": false,
    "pycharm": {
     "name": "#%% md\n"
    }
   }
  },
  {
   "cell_type": "code",
   "execution_count": 5,
   "outputs": [],
   "source": [
    "def calculate_sapt(selections: list, protein: mda.Universe):\n",
    "    # Writes xyz coords from trajectory\n",
    "    def write_xyz(selection, universe):\n",
    "        group = universe.select_atoms('resid ' + selection)\n",
    "        path = 'resid' + selection +'.xyz'\n",
    "\n",
    "        with mda.Writer(path, group.n_atoms) as coords:\n",
    "            coords.write(group)\n",
    "        return path\n",
    "\n",
    "    # Gets xyz data from saved coords\n",
    "    def read_xyz(xyz_path):\n",
    "        with open(xyz_path, 'r') as coord_file:\n",
    "            xyz_data =[]\n",
    "            coord_data = coord_file.readlines()[1:]\n",
    "            images = 0\n",
    "            for line in coord_data:\n",
    "                if line == '\\n':\n",
    "                    images += 1\n",
    "\n",
    "            for line in coord_data:\n",
    "                if '.' in line:\n",
    "                    xyz_data.append(line)\n",
    "        return xyz_data\n",
    "\n",
    "    # Saves coords as a string\n",
    "    def save_coords(coords0, coords1):\n",
    "        coord_data = '0 1\\n'\n",
    "\n",
    "        for line in coords0:\n",
    "            if '|' not in line:\n",
    "                items = line.split()\n",
    "                line = ''\n",
    "                items[0] = items[0][0]\n",
    "                for item in items:\n",
    "                    line += (' ' + item)\n",
    "                coord_data += (line + '\\n')\n",
    "\n",
    "        coord_data += '--\\n'\n",
    "        coord_data += '1 1\\n'\n",
    "\n",
    "        for line in coords1:\n",
    "             if '|' not in line:\n",
    "                items = line.split()\n",
    "                line = ''\n",
    "                items[0] = items[0][0]\n",
    "                for item in items:\n",
    "                    line += (' ' + item)\n",
    "                coord_data += (line + '\\n')\n",
    "\n",
    "        coord_data += 'units angstrom'\n",
    "        print(coord_data)\n",
    "        return coord_data\n",
    "\n",
    "\n",
    "    xyz_1 = write_xyz(selections[0], protein)\n",
    "    xyz_2 = write_xyz(selections[1], protein)\n",
    "\n",
    "    group0_coords = read_xyz(xyz_1)\n",
    "    group1_coords = read_xyz(xyz_2)\n",
    "\n",
    "    psi_in = save_coords(group0_coords, group1_coords)\n",
    "    dimer = psi4.geometry(psi_in)\n",
    "\n",
    "    psi4.set_options({'scf_type': 'df',\n",
    "                      'freeze_core': 'true'})\n",
    "\n",
    "    energy = psi4.energy('sapt0/jun-cc-pvdz', molecule=dimer)\n",
    "    return energy"
   ],
   "metadata": {
    "collapsed": false,
    "pycharm": {
     "name": "#%%\n"
    }
   }
  },
  {
   "cell_type": "markdown",
   "source": [
    "###Creates plot from SAPT calculation"
   ],
   "metadata": {
    "collapsed": false,
    "pycharm": {
     "name": "#%% md\n"
    }
   }
  },
  {
   "cell_type": "code",
   "execution_count": 6,
   "outputs": [
    {
     "name": "stdout",
     "output_type": "stream",
     "text": [
      "0 1\n",
      " N 11.73604 8.50080 -10.44528\n",
      " H 12.36512 7.83994 -10.83484\n",
      " H 12.09195 9.44153 -10.72461\n",
      " H 10.83196 8.30861 -10.96393\n",
      " C 11.66462 8.39347 -8.98323\n",
      " H 12.67261 8.56049 -8.68076\n",
      " C 10.73964 9.56993 -8.59075\n",
      " H 9.63879 9.27048 -8.96795\n",
      " H 11.09461 10.51888 -9.14200\n",
      " C 10.55657 9.93424 -7.11236\n",
      " H 11.44921 10.32263 -6.69315\n",
      " H 10.27714 8.97857 -6.59725\n",
      " S 9.24967 11.10484 -6.91010\n",
      " C 10.44390 12.49235 -7.16194\n",
      " H 11.47245 12.29443 -7.66105\n",
      " H 10.56522 13.06787 -6.25163\n",
      " H 9.88309 13.17239 -7.78997\n",
      " C 11.16655 7.12900 -8.37483\n",
      " O 10.15108 6.64862 -8.75514\n",
      "--\n",
      "1 1\n",
      " N 11.84096 6.64227 -7.27511\n",
      " H 12.56644 7.12491 -6.93741\n",
      " C 11.41484 5.43442 -6.51348\n",
      " H 10.66005 5.00397 -7.11752\n",
      " C 12.53216 4.36391 -6.26076\n",
      " H 12.11832 3.52241 -5.66861\n",
      " H 13.30177 4.79664 -5.48926\n",
      " C 13.31617 3.75903 -7.44814\n",
      " H 12.62364 3.67989 -8.33326\n",
      " H 13.60499 2.65400 -7.19414\n",
      " C 14.60889 4.52483 -7.80496\n",
      " H 15.27049 4.50547 -6.95580\n",
      " H 14.28076 5.53066 -8.13508\n",
      " N 15.30753 3.76300 -8.87507\n",
      " H 14.75175 3.29046 -9.56724\n",
      " C 16.57297 3.41819 -8.92728\n",
      " N 17.47799 3.96588 -8.11999\n",
      " H 17.11594 4.70163 -7.53401\n",
      " H 18.26217 3.45265 -7.93134\n",
      " N 16.96494 2.34458 -9.63933\n",
      " H 16.30914 1.88527 -10.22260\n",
      " H 17.84707 1.98915 -9.44175\n",
      " C 10.77050 5.85521 -5.25362\n",
      " O 11.35193 6.66443 -4.53891\n",
      "units angstrom\n"
     ]
    },
    {
     "ename": "KeyboardInterrupt",
     "evalue": "",
     "output_type": "error",
     "traceback": [
      "\u001B[0;31m---------------------------------------------------------------------------\u001B[0m",
      "\u001B[0;31mKeyboardInterrupt\u001B[0m                         Traceback (most recent call last)",
      "\u001B[0;32m<ipython-input-6-488f97a6ce0c>\u001B[0m in \u001B[0;36m<module>\u001B[0;34m\u001B[0m\n\u001B[1;32m     10\u001B[0m     \u001B[0;32mfor\u001B[0m \u001B[0mts\u001B[0m \u001B[0;32min\u001B[0m \u001B[0mtest_unv\u001B[0m\u001B[0;34m.\u001B[0m\u001B[0mtrajectory\u001B[0m\u001B[0;34m:\u001B[0m\u001B[0;34m\u001B[0m\u001B[0;34m\u001B[0m\u001B[0m\n\u001B[1;32m     11\u001B[0m         \u001B[0mtime_list\u001B[0m\u001B[0;34m.\u001B[0m\u001B[0mappend\u001B[0m\u001B[0;34m(\u001B[0m\u001B[0mts\u001B[0m\u001B[0;34m)\u001B[0m\u001B[0;34m\u001B[0m\u001B[0;34m\u001B[0m\u001B[0m\n\u001B[0;32m---> 12\u001B[0;31m         \u001B[0menergies\u001B[0m\u001B[0;34m.\u001B[0m\u001B[0mappend\u001B[0m\u001B[0;34m(\u001B[0m\u001B[0mcalculate_sapt\u001B[0m\u001B[0;34m(\u001B[0m\u001B[0;34m[\u001B[0m\u001B[0;34m'1'\u001B[0m\u001B[0;34m,\u001B[0m \u001B[0;34m'2'\u001B[0m\u001B[0;34m]\u001B[0m\u001B[0;34m,\u001B[0m \u001B[0mtest_unv\u001B[0m\u001B[0;34m)\u001B[0m\u001B[0;34m)\u001B[0m\u001B[0;34m\u001B[0m\u001B[0;34m\u001B[0m\u001B[0m\n\u001B[0m\u001B[1;32m     13\u001B[0m \u001B[0;34m\u001B[0m\u001B[0m\n\u001B[1;32m     14\u001B[0m \u001B[0;34m\u001B[0m\u001B[0m\n",
      "\u001B[0;32m<ipython-input-5-c2b23577d15c>\u001B[0m in \u001B[0;36mcalculate_sapt\u001B[0;34m(selections, protein)\u001B[0m\n\u001B[1;32m     66\u001B[0m                       'freeze_core': 'true'})\n\u001B[1;32m     67\u001B[0m \u001B[0;34m\u001B[0m\u001B[0m\n\u001B[0;32m---> 68\u001B[0;31m     \u001B[0menergy\u001B[0m \u001B[0;34m=\u001B[0m \u001B[0mpsi4\u001B[0m\u001B[0;34m.\u001B[0m\u001B[0menergy\u001B[0m\u001B[0;34m(\u001B[0m\u001B[0;34m'sapt0/jun-cc-pvdz'\u001B[0m\u001B[0;34m,\u001B[0m \u001B[0mmolecule\u001B[0m\u001B[0;34m=\u001B[0m\u001B[0mdimer\u001B[0m\u001B[0;34m)\u001B[0m\u001B[0;34m\u001B[0m\u001B[0;34m\u001B[0m\u001B[0m\n\u001B[0m\u001B[1;32m     69\u001B[0m     \u001B[0;32mreturn\u001B[0m \u001B[0menergy\u001B[0m\u001B[0;34m\u001B[0m\u001B[0;34m\u001B[0m\u001B[0m\n\u001B[1;32m     70\u001B[0m \u001B[0;34m\u001B[0m\u001B[0m\n",
      "\u001B[0;32m~/opt/anaconda3/envs/psi/lib/python3.7/site-packages/psi4/driver/driver.py\u001B[0m in \u001B[0;36menergy\u001B[0;34m(name, **kwargs)\u001B[0m\n\u001B[1;32m    506\u001B[0m     \u001B[0;31m# Bounce to CBS if \"method/basis\" name\u001B[0m\u001B[0;34m\u001B[0m\u001B[0;34m\u001B[0m\u001B[0;34m\u001B[0m\u001B[0m\n\u001B[1;32m    507\u001B[0m     \u001B[0;32mif\u001B[0m \u001B[0;34m\"/\"\u001B[0m \u001B[0;32min\u001B[0m \u001B[0mlowername\u001B[0m\u001B[0;34m:\u001B[0m\u001B[0;34m\u001B[0m\u001B[0;34m\u001B[0m\u001B[0m\n\u001B[0;32m--> 508\u001B[0;31m         \u001B[0;32mreturn\u001B[0m \u001B[0mdriver_cbs\u001B[0m\u001B[0;34m.\u001B[0m\u001B[0m_cbs_gufunc\u001B[0m\u001B[0;34m(\u001B[0m\u001B[0menergy\u001B[0m\u001B[0;34m,\u001B[0m \u001B[0mname\u001B[0m\u001B[0;34m,\u001B[0m \u001B[0mptype\u001B[0m\u001B[0;34m=\u001B[0m\u001B[0;34m'energy'\u001B[0m\u001B[0;34m,\u001B[0m \u001B[0;34m**\u001B[0m\u001B[0mkwargs\u001B[0m\u001B[0;34m)\u001B[0m\u001B[0;34m\u001B[0m\u001B[0;34m\u001B[0m\u001B[0m\n\u001B[0m\u001B[1;32m    509\u001B[0m \u001B[0;34m\u001B[0m\u001B[0m\n\u001B[1;32m    510\u001B[0m     \u001B[0;31m# Commit to procedures['energy'] call hereafter\u001B[0m\u001B[0;34m\u001B[0m\u001B[0;34m\u001B[0m\u001B[0;34m\u001B[0m\u001B[0m\n",
      "\u001B[0;32m~/opt/anaconda3/envs/psi/lib/python3.7/site-packages/psi4/driver/driver_cbs.py\u001B[0m in \u001B[0;36m_cbs_gufunc\u001B[0;34m(func, total_method_name, **kwargs)\u001B[0m\n\u001B[1;32m   1947\u001B[0m         \u001B[0moptstash\u001B[0m \u001B[0;34m=\u001B[0m \u001B[0mp4util\u001B[0m\u001B[0;34m.\u001B[0m\u001B[0mOptionsState\u001B[0m\u001B[0;34m(\u001B[0m\u001B[0;34m[\u001B[0m\u001B[0;34m'BASIS'\u001B[0m\u001B[0;34m]\u001B[0m\u001B[0;34m)\u001B[0m\u001B[0;34m\u001B[0m\u001B[0;34m\u001B[0m\u001B[0m\n\u001B[1;32m   1948\u001B[0m         \u001B[0mcore\u001B[0m\u001B[0;34m.\u001B[0m\u001B[0mset_global_option\u001B[0m\u001B[0;34m(\u001B[0m\u001B[0;34m'BASIS'\u001B[0m\u001B[0;34m,\u001B[0m \u001B[0mbasis\u001B[0m\u001B[0;34m)\u001B[0m\u001B[0;34m\u001B[0m\u001B[0;34m\u001B[0m\u001B[0m\n\u001B[0;32m-> 1949\u001B[0;31m         \u001B[0mptype_value\u001B[0m\u001B[0;34m,\u001B[0m \u001B[0mwfn\u001B[0m \u001B[0;34m=\u001B[0m \u001B[0mfunc\u001B[0m\u001B[0;34m(\u001B[0m\u001B[0mmethod_name\u001B[0m\u001B[0;34m,\u001B[0m \u001B[0mreturn_wfn\u001B[0m\u001B[0;34m=\u001B[0m\u001B[0;32mTrue\u001B[0m\u001B[0;34m,\u001B[0m \u001B[0mmolecule\u001B[0m\u001B[0;34m=\u001B[0m\u001B[0mmolecule\u001B[0m\u001B[0;34m,\u001B[0m \u001B[0;34m**\u001B[0m\u001B[0mkwargs\u001B[0m\u001B[0;34m)\u001B[0m\u001B[0;34m\u001B[0m\u001B[0;34m\u001B[0m\u001B[0m\n\u001B[0m\u001B[1;32m   1950\u001B[0m         \u001B[0mcore\u001B[0m\u001B[0;34m.\u001B[0m\u001B[0mclean\u001B[0m\u001B[0;34m(\u001B[0m\u001B[0;34m)\u001B[0m\u001B[0;34m\u001B[0m\u001B[0;34m\u001B[0m\u001B[0m\n\u001B[1;32m   1951\u001B[0m \u001B[0;34m\u001B[0m\u001B[0m\n",
      "\u001B[0;32m~/opt/anaconda3/envs/psi/lib/python3.7/site-packages/psi4/driver/driver.py\u001B[0m in \u001B[0;36menergy\u001B[0;34m(name, **kwargs)\u001B[0m\n\u001B[1;32m    554\u001B[0m             \u001B[0mshutil\u001B[0m\u001B[0;34m.\u001B[0m\u001B[0mcopy\u001B[0m\u001B[0;34m(\u001B[0m\u001B[0mitem\u001B[0m\u001B[0;34m,\u001B[0m \u001B[0mtargetfile\u001B[0m\u001B[0;34m)\u001B[0m\u001B[0;34m\u001B[0m\u001B[0;34m\u001B[0m\u001B[0m\n\u001B[1;32m    555\u001B[0m \u001B[0;34m\u001B[0m\u001B[0m\n\u001B[0;32m--> 556\u001B[0;31m     \u001B[0mwfn\u001B[0m \u001B[0;34m=\u001B[0m \u001B[0mprocedures\u001B[0m\u001B[0;34m[\u001B[0m\u001B[0;34m'energy'\u001B[0m\u001B[0;34m]\u001B[0m\u001B[0;34m[\u001B[0m\u001B[0mlowername\u001B[0m\u001B[0;34m]\u001B[0m\u001B[0;34m(\u001B[0m\u001B[0mlowername\u001B[0m\u001B[0;34m,\u001B[0m \u001B[0mmolecule\u001B[0m\u001B[0;34m=\u001B[0m\u001B[0mmolecule\u001B[0m\u001B[0;34m,\u001B[0m \u001B[0;34m**\u001B[0m\u001B[0mkwargs\u001B[0m\u001B[0;34m)\u001B[0m\u001B[0;34m\u001B[0m\u001B[0;34m\u001B[0m\u001B[0m\n\u001B[0m\u001B[1;32m    557\u001B[0m \u001B[0;34m\u001B[0m\u001B[0m\n\u001B[1;32m    558\u001B[0m     \u001B[0;32mfor\u001B[0m \u001B[0mpostcallback\u001B[0m \u001B[0;32min\u001B[0m \u001B[0mhooks\u001B[0m\u001B[0;34m[\u001B[0m\u001B[0;34m'energy'\u001B[0m\u001B[0;34m]\u001B[0m\u001B[0;34m[\u001B[0m\u001B[0;34m'post'\u001B[0m\u001B[0;34m]\u001B[0m\u001B[0;34m:\u001B[0m\u001B[0;34m\u001B[0m\u001B[0;34m\u001B[0m\u001B[0m\n",
      "\u001B[0;32m~/opt/anaconda3/envs/psi/lib/python3.7/site-packages/psi4/driver/procrouting/proc.py\u001B[0m in \u001B[0;36mrun_sapt\u001B[0;34m(name, **kwargs)\u001B[0m\n\u001B[1;32m   3323\u001B[0m     \u001B[0mp4util\u001B[0m\u001B[0;34m.\u001B[0m\u001B[0mbanner\u001B[0m\u001B[0;34m(\u001B[0m\u001B[0;34m'Monomer A HF'\u001B[0m\u001B[0;34m)\u001B[0m\u001B[0;34m\u001B[0m\u001B[0;34m\u001B[0m\u001B[0m\n\u001B[1;32m   3324\u001B[0m     \u001B[0mcore\u001B[0m\u001B[0;34m.\u001B[0m\u001B[0mprint_out\u001B[0m\u001B[0;34m(\u001B[0m\u001B[0;34m'\\n'\u001B[0m\u001B[0;34m)\u001B[0m\u001B[0;34m\u001B[0m\u001B[0;34m\u001B[0m\u001B[0m\n\u001B[0;32m-> 3325\u001B[0;31m     \u001B[0mmonomerA_wfn\u001B[0m \u001B[0;34m=\u001B[0m \u001B[0mscf_helper\u001B[0m\u001B[0;34m(\u001B[0m\u001B[0;34m'RHF'\u001B[0m\u001B[0;34m,\u001B[0m \u001B[0mmolecule\u001B[0m\u001B[0;34m=\u001B[0m\u001B[0mmonomerA\u001B[0m\u001B[0;34m,\u001B[0m \u001B[0;34m**\u001B[0m\u001B[0mkwargs\u001B[0m\u001B[0;34m)\u001B[0m\u001B[0;34m\u001B[0m\u001B[0;34m\u001B[0m\u001B[0m\n\u001B[0m\u001B[1;32m   3326\u001B[0m     \u001B[0;32mif\u001B[0m \u001B[0mdo_delta_mp2\u001B[0m\u001B[0;34m:\u001B[0m\u001B[0;34m\u001B[0m\u001B[0;34m\u001B[0m\u001B[0m\n\u001B[1;32m   3327\u001B[0m         \u001B[0mselect_mp2\u001B[0m\u001B[0;34m(\u001B[0m\u001B[0mname\u001B[0m\u001B[0;34m,\u001B[0m \u001B[0mref_wfn\u001B[0m\u001B[0;34m=\u001B[0m\u001B[0mmonomerA_wfn\u001B[0m\u001B[0;34m,\u001B[0m \u001B[0;34m**\u001B[0m\u001B[0mkwargs\u001B[0m\u001B[0;34m)\u001B[0m\u001B[0;34m\u001B[0m\u001B[0;34m\u001B[0m\u001B[0m\n",
      "\u001B[0;32m~/opt/anaconda3/envs/psi/lib/python3.7/site-packages/psi4/driver/procrouting/proc.py\u001B[0m in \u001B[0;36mscf_helper\u001B[0;34m(name, post_scf, **kwargs)\u001B[0m\n\u001B[1;32m   1361\u001B[0m         \u001B[0muse_c1\u001B[0m \u001B[0;34m=\u001B[0m \u001B[0;32mTrue\u001B[0m\u001B[0;34m\u001B[0m\u001B[0;34m\u001B[0m\u001B[0m\n\u001B[1;32m   1362\u001B[0m \u001B[0;34m\u001B[0m\u001B[0m\n\u001B[0;32m-> 1363\u001B[0;31m     \u001B[0me_scf\u001B[0m \u001B[0;34m=\u001B[0m \u001B[0mscf_wfn\u001B[0m\u001B[0;34m.\u001B[0m\u001B[0mcompute_energy\u001B[0m\u001B[0;34m(\u001B[0m\u001B[0;34m)\u001B[0m\u001B[0;34m\u001B[0m\u001B[0;34m\u001B[0m\u001B[0m\n\u001B[0m\u001B[1;32m   1364\u001B[0m     \u001B[0;32mfor\u001B[0m \u001B[0mobj\u001B[0m \u001B[0;32min\u001B[0m \u001B[0;34m[\u001B[0m\u001B[0mcore\u001B[0m\u001B[0;34m]\u001B[0m\u001B[0;34m:\u001B[0m\u001B[0;34m\u001B[0m\u001B[0;34m\u001B[0m\u001B[0m\n\u001B[1;32m   1365\u001B[0m         \u001B[0;32mfor\u001B[0m \u001B[0mpv\u001B[0m \u001B[0;32min\u001B[0m \u001B[0;34m[\u001B[0m\u001B[0;34m\"SCF TOTAL ENERGY\"\u001B[0m\u001B[0;34m,\u001B[0m \u001B[0;34m\"CURRENT ENERGY\"\u001B[0m\u001B[0;34m,\u001B[0m \u001B[0;34m\"CURRENT REFERENCE ENERGY\"\u001B[0m\u001B[0;34m]\u001B[0m\u001B[0;34m:\u001B[0m\u001B[0;34m\u001B[0m\u001B[0;34m\u001B[0m\u001B[0m\n",
      "\u001B[0;32m~/opt/anaconda3/envs/psi/lib/python3.7/site-packages/psi4/driver/procrouting/scf_proc/scf_iterator.py\u001B[0m in \u001B[0;36mscf_compute_energy\u001B[0;34m(self)\u001B[0m\n\u001B[1;32m     85\u001B[0m \u001B[0;34m\u001B[0m\u001B[0m\n\u001B[1;32m     86\u001B[0m     \u001B[0;32mtry\u001B[0m\u001B[0;34m:\u001B[0m\u001B[0;34m\u001B[0m\u001B[0;34m\u001B[0m\u001B[0m\n\u001B[0;32m---> 87\u001B[0;31m         \u001B[0mself\u001B[0m\u001B[0;34m.\u001B[0m\u001B[0miterations\u001B[0m\u001B[0;34m(\u001B[0m\u001B[0;34m)\u001B[0m\u001B[0;34m\u001B[0m\u001B[0;34m\u001B[0m\u001B[0m\n\u001B[0m\u001B[1;32m     88\u001B[0m     \u001B[0;32mexcept\u001B[0m \u001B[0mSCFConvergenceError\u001B[0m \u001B[0;32mas\u001B[0m \u001B[0me\u001B[0m\u001B[0;34m:\u001B[0m\u001B[0;34m\u001B[0m\u001B[0;34m\u001B[0m\u001B[0m\n\u001B[1;32m     89\u001B[0m         \u001B[0;32mif\u001B[0m \u001B[0mcore\u001B[0m\u001B[0;34m.\u001B[0m\u001B[0mget_option\u001B[0m\u001B[0;34m(\u001B[0m\u001B[0;34m\"SCF\"\u001B[0m\u001B[0;34m,\u001B[0m \u001B[0;34m\"FAIL_ON_MAXITER\"\u001B[0m\u001B[0;34m)\u001B[0m\u001B[0;34m:\u001B[0m\u001B[0;34m\u001B[0m\u001B[0;34m\u001B[0m\u001B[0m\n",
      "\u001B[0;32m~/opt/anaconda3/envs/psi/lib/python3.7/site-packages/psi4/driver/procrouting/scf_proc/scf_iterator.py\u001B[0m in \u001B[0;36mscf_iterate\u001B[0;34m(self, e_conv, d_conv)\u001B[0m\n\u001B[1;32m    287\u001B[0m \u001B[0;34m\u001B[0m\u001B[0m\n\u001B[1;32m    288\u001B[0m         \u001B[0mcore\u001B[0m\u001B[0;34m.\u001B[0m\u001B[0mtimer_on\u001B[0m\u001B[0;34m(\u001B[0m\u001B[0;34m\"HF: Form G\"\u001B[0m\u001B[0;34m)\u001B[0m\u001B[0;34m\u001B[0m\u001B[0;34m\u001B[0m\u001B[0m\n\u001B[0;32m--> 289\u001B[0;31m         \u001B[0mself\u001B[0m\u001B[0;34m.\u001B[0m\u001B[0mform_G\u001B[0m\u001B[0;34m(\u001B[0m\u001B[0;34m)\u001B[0m\u001B[0;34m\u001B[0m\u001B[0;34m\u001B[0m\u001B[0m\n\u001B[0m\u001B[1;32m    290\u001B[0m         \u001B[0mcore\u001B[0m\u001B[0;34m.\u001B[0m\u001B[0mtimer_off\u001B[0m\u001B[0;34m(\u001B[0m\u001B[0;34m\"HF: Form G\"\u001B[0m\u001B[0;34m)\u001B[0m\u001B[0;34m\u001B[0m\u001B[0;34m\u001B[0m\u001B[0m\n\u001B[1;32m    291\u001B[0m \u001B[0;34m\u001B[0m\u001B[0m\n",
      "\u001B[0;31mKeyboardInterrupt\u001B[0m: "
     ]
    }
   ],
   "source": [
    "if __name__ == '__main__':\n",
    "    # Test files\n",
    "    topology = 'testfiles/testtop.psf'\n",
    "    trajectory = 'testfiles/testtraj.dcd'\n",
    "\n",
    "    test_unv = mda.Universe(topology, trajectory)\n",
    "    time_list = []\n",
    "    energies = []\n",
    "\n",
    "    for ts in test_unv.trajectory:\n",
    "        time_list.append(ts)\n",
    "        energies.append(calculate_sapt(['1', '2'], test_unv))\n",
    "\n",
    "\n",
    "    plt.plot(time_list, energies, label='Energy')\n",
    "    plt.xlabel('Time(ns)')\n",
    "    plt.ylabel('Energy')\n",
    "    plt.savefig('SAPT.png', dpi=1200)\n"
   ],
   "metadata": {
    "collapsed": false,
    "pycharm": {
     "name": "#%%\n"
    }
   }
  }
 ],
 "metadata": {
  "kernelspec": {
   "display_name": "Python 3",
   "language": "python",
   "name": "python3"
  },
  "language_info": {
   "codemirror_mode": {
    "name": "ipython",
    "version": 2
   },
   "file_extension": ".py",
   "mimetype": "text/x-python",
   "name": "python",
   "nbconvert_exporter": "python",
   "pygments_lexer": "ipython2",
   "version": "2.7.6"
  }
 },
 "nbformat": 4,
 "nbformat_minor": 0
}
