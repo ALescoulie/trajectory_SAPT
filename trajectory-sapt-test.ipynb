{
 "cells": [
  {
   "cell_type": "markdown",
   "source": [
    "#Trajectory SAPT Analysis\n",
    "Proof of concept for calculating SAPT energies using psi4 over a trajectory\n",
    "###Imports"
   ],
   "metadata": {
    "collapsed": false
   }
  },
  {
   "cell_type": "code",
   "execution_count": 85,
   "outputs": [],
   "source": [
    "import MDAnalysis as mda\n",
    "import psi4\n",
    "import matplotlib.pyplot as plt"
   ],
   "metadata": {
    "collapsed": false,
    "pycharm": {
     "name": "#%%\n"
    }
   }
  },
  {
   "cell_type": "markdown",
   "source": [
    "###Defining SAPT calculator function"
   ],
   "metadata": {
    "collapsed": false,
    "pycharm": {
     "name": "#%% md\n"
    }
   }
  },
  {
   "cell_type": "code",
   "execution_count": 86,
   "outputs": [],
   "source": [
    "def calculate_spat(selections: list, protein: mda.Universe):\n",
    "    # Writes xyz coords from trajectory\n",
    "    def write_xyz(selection, universe):\n",
    "        group = universe.select_atoms('resid ' + selection)\n",
    "        path = 'resid' + selection +'.xyz'\n",
    "\n",
    "        with mda.Writer(path, group.n_atoms) as coords:\n",
    "            coords.write(group)\n",
    "        return path\n",
    "\n",
    "    # Gets xyz data from saved coords\n",
    "    def read_xyz(xyz_path):\n",
    "        with open(xyz_path, 'r') as coord_file:\n",
    "            xyz_data =[]\n",
    "            coord_data = coord_file.readlines()[1:]\n",
    "            images = 0\n",
    "            for line in coord_data:\n",
    "                if line == '\\n':\n",
    "                    images += 1\n",
    "\n",
    "            for line in coord_data:\n",
    "                if '.' in line:\n",
    "                    xyz_data.append(line)\n",
    "        return xyz_data\n",
    "\n",
    "    # Saves coords as a string\n",
    "    def save_coords(coords0, coords1):\n",
    "        coord_data = '0 1\\n'\n",
    "\n",
    "        for line in coords0:\n",
    "            if '|' not in line:\n",
    "                items = line.split()\n",
    "                line = ''\n",
    "                items[0] = items[0][0]\n",
    "                for item in items:\n",
    "                    line += (' ' + item)\n",
    "                coord_data += (line + '\\n')\n",
    "\n",
    "        coord_data += '--\\n'\n",
    "        coord_data += '0 1\\n'\n",
    "\n",
    "        for line in coords1:\n",
    "             if '|' not in line:\n",
    "                items = line.split()\n",
    "                line = ''\n",
    "                items[0] = items[0][0]\n",
    "                for item in items:\n",
    "                    line += (' ' + item)\n",
    "                coord_data += (line + '\\n')\n",
    "\n",
    "        coord_data += 'units angstrom'\n",
    "        print(coord_data)\n",
    "        return coord_data\n",
    "\n",
    "\n",
    "    xyz_1 = write_xyz(selections[0], protein)\n",
    "    xyz_2 = write_xyz(selections[1], protein)\n",
    "\n",
    "    group0_coords = read_xyz(xyz_1)\n",
    "    group1_coords = read_xyz(xyz_2)\n",
    "\n",
    "    psi_in = save_coords(group0_coords, group1_coords)\n",
    "    dimer = psi4.geometry(psi_in)\n",
    "\n",
    "    psi4.set_options({'scf_type': 'df',\n",
    "                      'freeze_core': 'true'})\n",
    "\n",
    "    energy = psi4.energy('spat0/jun-cc-pvdz', molecule=dimer)\n",
    "    return energy"
   ],
   "metadata": {
    "collapsed": false,
    "pycharm": {
     "name": "#%%\n"
    }
   }
  },
  {
   "cell_type": "markdown",
   "source": [
    "###Creates plot from SAPT calculation"
   ],
   "metadata": {
    "collapsed": false,
    "pycharm": {
     "name": "#%% md\n"
    }
   }
  },
  {
   "cell_type": "code",
   "execution_count": 87,
   "outputs": [
    {
     "name": "stdout",
     "output_type": "stream",
     "text": [
      "0 1\n",
      " N 11.73604 8.50080 -10.44528\n",
      " H 12.36512 7.83994 -10.83484\n",
      " H 12.09195 9.44153 -10.72461\n",
      " H 10.83196 8.30861 -10.96393\n",
      " C 11.66462 8.39347 -8.98323\n",
      " H 12.67261 8.56049 -8.68076\n",
      " C 10.73964 9.56993 -8.59075\n",
      " H 9.63879 9.27048 -8.96795\n",
      " H 11.09461 10.51888 -9.14200\n",
      " C 10.55657 9.93424 -7.11236\n",
      " H 11.44921 10.32263 -6.69315\n",
      " H 10.27714 8.97857 -6.59725\n",
      " S 9.24967 11.10484 -6.91010\n",
      " C 10.44390 12.49235 -7.16194\n",
      " H 11.47245 12.29443 -7.66105\n",
      " H 10.56522 13.06787 -6.25163\n",
      " H 9.88309 13.17239 -7.78997\n",
      " C 11.16655 7.12900 -8.37483\n",
      " O 10.15108 6.64862 -8.75514\n",
      "--\n",
      "0 1\n",
      " N 11.84096 6.64227 -7.27511\n",
      " H 12.56644 7.12491 -6.93741\n",
      " C 11.41484 5.43442 -6.51348\n",
      " H 10.66005 5.00397 -7.11752\n",
      " C 12.53216 4.36391 -6.26076\n",
      " H 12.11832 3.52241 -5.66861\n",
      " H 13.30177 4.79664 -5.48926\n",
      " C 13.31617 3.75903 -7.44814\n",
      " H 12.62364 3.67989 -8.33326\n",
      " H 13.60499 2.65400 -7.19414\n",
      " C 14.60889 4.52483 -7.80496\n",
      " H 15.27049 4.50547 -6.95580\n",
      " H 14.28076 5.53066 -8.13508\n",
      " N 15.30753 3.76300 -8.87507\n",
      " H 14.75175 3.29046 -9.56724\n",
      " C 16.57297 3.41819 -8.92728\n",
      " N 17.47799 3.96588 -8.11999\n",
      " H 17.11594 4.70163 -7.53401\n",
      " H 18.26217 3.45265 -7.93134\n",
      " N 16.96494 2.34458 -9.63933\n",
      " H 16.30914 1.88527 -10.22260\n",
      " H 17.84707 1.98915 -9.44175\n",
      " C 10.77050 5.85521 -5.25362\n",
      " O 11.35193 6.66443 -4.53891\n",
      "units angstrom\n",
      "\n",
      "\n",
      "c: [0]\n",
      "fc: [0.0]\n",
      "fc: [0.0]\n",
      "m: [1]\n",
      "fm: [1]\n",
      "fm: [1]\n"
     ]
    },
    {
     "ename": "ValidationError",
     "evalue": "Inconsistent or unspecified chg/mult: sys chg: None, frag chg: [0.0, 0.0], sys mult: None, frag mult: [1, 1]",
     "output_type": "error",
     "traceback": [
      "\u001B[0;31m---------------------------------------------------------------------------\u001B[0m",
      "\u001B[0;31mValidationError\u001B[0m                           Traceback (most recent call last)",
      "\u001B[0;32m<ipython-input-87-eb77f4624db2>\u001B[0m in \u001B[0;36m<module>\u001B[0;34m\u001B[0m\n\u001B[1;32m     10\u001B[0m     \u001B[0;32mfor\u001B[0m \u001B[0mts\u001B[0m \u001B[0;32min\u001B[0m \u001B[0mtest_unv\u001B[0m\u001B[0;34m.\u001B[0m\u001B[0mtrajectory\u001B[0m\u001B[0;34m:\u001B[0m\u001B[0;34m\u001B[0m\u001B[0;34m\u001B[0m\u001B[0m\n\u001B[1;32m     11\u001B[0m         \u001B[0mtime_list\u001B[0m\u001B[0;34m.\u001B[0m\u001B[0mappend\u001B[0m\u001B[0;34m(\u001B[0m\u001B[0mts\u001B[0m\u001B[0;34m)\u001B[0m\u001B[0;34m\u001B[0m\u001B[0;34m\u001B[0m\u001B[0m\n\u001B[0;32m---> 12\u001B[0;31m         \u001B[0menergies\u001B[0m\u001B[0;34m.\u001B[0m\u001B[0mappend\u001B[0m\u001B[0;34m(\u001B[0m\u001B[0mcalculate_spat\u001B[0m\u001B[0;34m(\u001B[0m\u001B[0;34m[\u001B[0m\u001B[0;34m'1'\u001B[0m\u001B[0;34m,\u001B[0m \u001B[0;34m'2'\u001B[0m\u001B[0;34m]\u001B[0m\u001B[0;34m,\u001B[0m \u001B[0mtest_unv\u001B[0m\u001B[0;34m)\u001B[0m\u001B[0;34m)\u001B[0m\u001B[0;34m\u001B[0m\u001B[0;34m\u001B[0m\u001B[0m\n\u001B[0m\u001B[1;32m     13\u001B[0m \u001B[0;34m\u001B[0m\u001B[0m\n\u001B[1;32m     14\u001B[0m \u001B[0;34m\u001B[0m\u001B[0m\n",
      "\u001B[0;32m<ipython-input-86-f0ae25d9c52f>\u001B[0m in \u001B[0;36mcalculate_spat\u001B[0;34m(selections, protein)\u001B[0m\n\u001B[1;32m     61\u001B[0m \u001B[0;34m\u001B[0m\u001B[0m\n\u001B[1;32m     62\u001B[0m     \u001B[0mpsi_in\u001B[0m \u001B[0;34m=\u001B[0m \u001B[0msave_coords\u001B[0m\u001B[0;34m(\u001B[0m\u001B[0mgroup0_coords\u001B[0m\u001B[0;34m,\u001B[0m \u001B[0mgroup1_coords\u001B[0m\u001B[0;34m)\u001B[0m\u001B[0;34m\u001B[0m\u001B[0;34m\u001B[0m\u001B[0m\n\u001B[0;32m---> 63\u001B[0;31m     \u001B[0mdimer\u001B[0m \u001B[0;34m=\u001B[0m \u001B[0mpsi4\u001B[0m\u001B[0;34m.\u001B[0m\u001B[0mgeometry\u001B[0m\u001B[0;34m(\u001B[0m\u001B[0mpsi_in\u001B[0m\u001B[0;34m)\u001B[0m\u001B[0;34m\u001B[0m\u001B[0;34m\u001B[0m\u001B[0m\n\u001B[0m\u001B[1;32m     64\u001B[0m \u001B[0;34m\u001B[0m\u001B[0m\n\u001B[1;32m     65\u001B[0m     psi4.set_options({'scf_type': 'df',\n",
      "\u001B[0;32m~/anaconda3/envs/interaction-analysis/lib/python3.7/site-packages/psi4/driver/molutil.py\u001B[0m in \u001B[0;36mgeometry\u001B[0;34m(geom, name)\u001B[0m\n\u001B[1;32m    248\u001B[0m     \"\"\"\n\u001B[1;32m    249\u001B[0m     molrec = qcel.molparse.from_string(\n\u001B[0;32m--> 250\u001B[0;31m         geom, enable_qm=True, missing_enabled_return_qm='minimal', enable_efp=True, missing_enabled_return_efp='none')\n\u001B[0m\u001B[1;32m    251\u001B[0m \u001B[0;34m\u001B[0m\u001B[0m\n\u001B[1;32m    252\u001B[0m     \u001B[0mmolecule\u001B[0m \u001B[0;34m=\u001B[0m \u001B[0mcore\u001B[0m\u001B[0;34m.\u001B[0m\u001B[0mMolecule\u001B[0m\u001B[0;34m.\u001B[0m\u001B[0mfrom_dict\u001B[0m\u001B[0;34m(\u001B[0m\u001B[0mmolrec\u001B[0m\u001B[0;34m[\u001B[0m\u001B[0;34m'qm'\u001B[0m\u001B[0;34m]\u001B[0m\u001B[0;34m)\u001B[0m\u001B[0;34m\u001B[0m\u001B[0;34m\u001B[0m\u001B[0m\n",
      "\u001B[0;32m~/anaconda3/envs/interaction-analysis/lib/python3.7/site-packages/qcelemental/molparse/from_string.py\u001B[0m in \u001B[0;36mfrom_string\u001B[0;34m(molstr, dtype, name, fix_com, fix_orientation, fix_symmetry, return_processed, enable_qm, enable_efp, missing_enabled_return_qm, missing_enabled_return_efp, verbose)\u001B[0m\n\u001B[1;32m    265\u001B[0m         \u001B[0mmissing_enabled_return_qm\u001B[0m\u001B[0;34m=\u001B[0m\u001B[0mmissing_enabled_return_qm\u001B[0m\u001B[0;34m,\u001B[0m\u001B[0;34m\u001B[0m\u001B[0;34m\u001B[0m\u001B[0m\n\u001B[1;32m    266\u001B[0m         \u001B[0mmissing_enabled_return_efp\u001B[0m\u001B[0;34m=\u001B[0m\u001B[0mmissing_enabled_return_efp\u001B[0m\u001B[0;34m,\u001B[0m\u001B[0;34m\u001B[0m\u001B[0;34m\u001B[0m\u001B[0m\n\u001B[0;32m--> 267\u001B[0;31m         \u001B[0;34m**\u001B[0m\u001B[0mmolinit\u001B[0m\u001B[0;34m,\u001B[0m\u001B[0;34m\u001B[0m\u001B[0;34m\u001B[0m\u001B[0m\n\u001B[0m\u001B[1;32m    268\u001B[0m     )\n\u001B[1;32m    269\u001B[0m \u001B[0;34m\u001B[0m\u001B[0m\n",
      "\u001B[0;32m~/anaconda3/envs/interaction-analysis/lib/python3.7/site-packages/qcelemental/molparse/from_arrays.py\u001B[0m in \u001B[0;36mfrom_input_arrays\u001B[0;34m(enable_qm, enable_efp, missing_enabled_return_qm, missing_enabled_return_efp, geom, elea, elez, elem, mass, real, elbl, name, units, input_units_to_au, fix_com, fix_orientation, fix_symmetry, fragment_separators, fragment_charges, fragment_multiplicities, molecular_charge, molecular_multiplicity, fragment_files, hint_types, geom_hints, geom_unsettled, variables, speclabel, tooclose, zero_ghost_fragments, nonphysical, mtol, copy, verbose)\u001B[0m\n\u001B[1;32m    125\u001B[0m             \u001B[0mmtol\u001B[0m\u001B[0;34m=\u001B[0m\u001B[0mmtol\u001B[0m\u001B[0;34m,\u001B[0m\u001B[0;34m\u001B[0m\u001B[0;34m\u001B[0m\u001B[0m\n\u001B[1;32m    126\u001B[0m             \u001B[0mcopy\u001B[0m\u001B[0;34m=\u001B[0m\u001B[0mcopy\u001B[0m\u001B[0;34m,\u001B[0m\u001B[0;34m\u001B[0m\u001B[0;34m\u001B[0m\u001B[0m\n\u001B[0;32m--> 127\u001B[0;31m             \u001B[0mverbose\u001B[0m\u001B[0;34m=\u001B[0m\u001B[0;36m1\u001B[0m\u001B[0;34m,\u001B[0m\u001B[0;34m\u001B[0m\u001B[0;34m\u001B[0m\u001B[0m\n\u001B[0m\u001B[1;32m    128\u001B[0m         )\n\u001B[1;32m    129\u001B[0m         \u001B[0mupdate_with_error\u001B[0m\u001B[0;34m(\u001B[0m\u001B[0mmolinit\u001B[0m\u001B[0;34m,\u001B[0m \u001B[0;34m{\u001B[0m\u001B[0;34m\"qm\"\u001B[0m\u001B[0;34m:\u001B[0m \u001B[0mprocessed\u001B[0m\u001B[0;34m}\u001B[0m\u001B[0;34m)\u001B[0m\u001B[0;34m\u001B[0m\u001B[0;34m\u001B[0m\u001B[0m\n",
      "\u001B[0;32m~/anaconda3/envs/interaction-analysis/lib/python3.7/site-packages/qcelemental/molparse/from_arrays.py\u001B[0m in \u001B[0;36mfrom_arrays\u001B[0;34m(geom, elea, elez, elem, mass, real, elbl, name, units, input_units_to_au, fix_com, fix_orientation, fix_symmetry, fragment_separators, fragment_charges, fragment_multiplicities, molecular_charge, molecular_multiplicity, comment, provenance, connectivity, fragment_files, hint_types, geom_hints, geom_unsettled, variables, domain, missing_enabled_return, np_out, speclabel, tooclose, zero_ghost_fragments, nonphysical, mtol, copy, verbose)\u001B[0m\n\u001B[1;32m    385\u001B[0m             \u001B[0mfragment_multiplicities\u001B[0m\u001B[0;34m=\u001B[0m\u001B[0mmolinit\u001B[0m\u001B[0;34m[\u001B[0m\u001B[0;34m\"fragment_multiplicities\"\u001B[0m\u001B[0;34m]\u001B[0m\u001B[0;34m,\u001B[0m\u001B[0;34m\u001B[0m\u001B[0;34m\u001B[0m\u001B[0m\n\u001B[1;32m    386\u001B[0m             \u001B[0mzero_ghost_fragments\u001B[0m\u001B[0;34m=\u001B[0m\u001B[0mzero_ghost_fragments\u001B[0m\u001B[0;34m,\u001B[0m\u001B[0;34m\u001B[0m\u001B[0;34m\u001B[0m\u001B[0m\n\u001B[0;32m--> 387\u001B[0;31m             \u001B[0mverbose\u001B[0m\u001B[0;34m=\u001B[0m\u001B[0mverbose\u001B[0m\u001B[0;34m,\u001B[0m\u001B[0;34m\u001B[0m\u001B[0;34m\u001B[0m\u001B[0m\n\u001B[0m\u001B[1;32m    388\u001B[0m         )\n\u001B[1;32m    389\u001B[0m         \u001B[0;32mdel\u001B[0m \u001B[0mmolinit\u001B[0m\u001B[0;34m[\u001B[0m\u001B[0;34m\"fragment_charges\"\u001B[0m\u001B[0;34m]\u001B[0m  \u001B[0;31m# sometimes safe update is too picky about overwriting v_a_f_fragments values\u001B[0m\u001B[0;34m\u001B[0m\u001B[0;34m\u001B[0m\u001B[0m\n",
      "\u001B[0;32m~/anaconda3/envs/interaction-analysis/lib/python3.7/site-packages/qcelemental/molparse/chgmult.py\u001B[0m in \u001B[0;36mvalidate_and_fill_chgmult\u001B[0;34m(zeff, fragment_separators, molecular_charge, fragment_charges, molecular_multiplicity, fragment_multiplicities, zero_ghost_fragments, verbose)\u001B[0m\n\u001B[1;32m    499\u001B[0m     \u001B[0;31m#      long in the itertools.product\u001B[0m\u001B[0;34m\u001B[0m\u001B[0;34m\u001B[0m\u001B[0;34m\u001B[0m\u001B[0m\n\u001B[1;32m    500\u001B[0m \u001B[0;34m\u001B[0m\u001B[0m\n\u001B[0;32m--> 501\u001B[0;31m     \u001B[0mc_final\u001B[0m\u001B[0;34m,\u001B[0m \u001B[0mfc_final\u001B[0m\u001B[0;34m,\u001B[0m \u001B[0mm_final\u001B[0m\u001B[0;34m,\u001B[0m \u001B[0mfm_final\u001B[0m \u001B[0;34m=\u001B[0m \u001B[0mreconcile\u001B[0m\u001B[0;34m(\u001B[0m\u001B[0mcgmp_exact_c\u001B[0m\u001B[0;34m,\u001B[0m \u001B[0mcgmp_exact_fc\u001B[0m\u001B[0;34m,\u001B[0m \u001B[0mcgmp_exact_m\u001B[0m\u001B[0;34m,\u001B[0m \u001B[0mcgmp_exact_fm\u001B[0m\u001B[0;34m)\u001B[0m\u001B[0;34m\u001B[0m\u001B[0;34m\u001B[0m\u001B[0m\n\u001B[0m\u001B[1;32m    502\u001B[0m \u001B[0;34m\u001B[0m\u001B[0m\n\u001B[1;32m    503\u001B[0m     \u001B[0mc_text\u001B[0m \u001B[0;34m=\u001B[0m \u001B[0mstringify\u001B[0m\u001B[0;34m(\u001B[0m\u001B[0mmolecular_charge\u001B[0m\u001B[0;34m,\u001B[0m \u001B[0mc_final\u001B[0m\u001B[0;34m)\u001B[0m\u001B[0;34m\u001B[0m\u001B[0;34m\u001B[0m\u001B[0m\n",
      "\u001B[0;32m~/anaconda3/envs/interaction-analysis/lib/python3.7/site-packages/qcelemental/molparse/chgmult.py\u001B[0m in \u001B[0;36mreconcile\u001B[0;34m(exact_c, exact_fc, exact_m, exact_fm)\u001B[0m\n\u001B[1;32m    489\u001B[0m         \u001B[0;32mif\u001B[0m \u001B[0mverbose\u001B[0m \u001B[0;34m>\u001B[0m \u001B[0;34m-\u001B[0m\u001B[0;36m1\u001B[0m\u001B[0;34m:\u001B[0m\u001B[0;34m\u001B[0m\u001B[0;34m\u001B[0m\u001B[0m\n\u001B[1;32m    490\u001B[0m             \u001B[0mprint\u001B[0m\u001B[0;34m(\u001B[0m\u001B[0;34m\"\\n\\n\"\u001B[0m \u001B[0;34m+\u001B[0m \u001B[0;34m\"\\n\"\u001B[0m\u001B[0;34m.\u001B[0m\u001B[0mjoin\u001B[0m\u001B[0;34m(\u001B[0m\u001B[0mtext\u001B[0m\u001B[0;34m)\u001B[0m\u001B[0;34m)\u001B[0m\u001B[0;34m\u001B[0m\u001B[0;34m\u001B[0m\u001B[0m\n\u001B[0;32m--> 491\u001B[0;31m         \u001B[0;32mraise\u001B[0m \u001B[0mValidationError\u001B[0m\u001B[0;34m(\u001B[0m\u001B[0merr\u001B[0m\u001B[0;34m)\u001B[0m\u001B[0;34m\u001B[0m\u001B[0;34m\u001B[0m\u001B[0m\n\u001B[0m\u001B[1;32m    492\u001B[0m \u001B[0;34m\u001B[0m\u001B[0m\n\u001B[1;32m    493\u001B[0m     \u001B[0;32mdef\u001B[0m \u001B[0mstringify\u001B[0m\u001B[0;34m(\u001B[0m\u001B[0mstart\u001B[0m\u001B[0;34m,\u001B[0m \u001B[0mfinal\u001B[0m\u001B[0;34m)\u001B[0m\u001B[0;34m:\u001B[0m\u001B[0;34m\u001B[0m\u001B[0;34m\u001B[0m\u001B[0m\n",
      "\u001B[0;31mValidationError\u001B[0m: Inconsistent or unspecified chg/mult: sys chg: None, frag chg: [0.0, 0.0], sys mult: None, frag mult: [1, 1]"
     ]
    }
   ],
   "source": [
    "if __name__ == '__main__':\n",
    "    # Test files\n",
    "    topology = 'testfiles/testtop.psf'\n",
    "    trajectory = 'testfiles/testtraj.dcd'\n",
    "\n",
    "    test_unv = mda.Universe(topology, trajectory)\n",
    "    time_list = []\n",
    "    energies = []\n",
    "\n",
    "    for ts in test_unv.trajectory:\n",
    "        time_list.append(ts)\n",
    "        energies.append(calculate_spat(['1', '2'], test_unv))\n",
    "\n",
    "\n",
    "    plt.plot(time_list, energies, label='Energy')\n",
    "    plt.xlabel('Time(ns)')\n",
    "    plt.ylabel('Energy')\n",
    "    plt.savefig('SAPT.png', dpi=1200)\n"
   ],
   "metadata": {
    "collapsed": false,
    "pycharm": {
     "name": "#%%\n"
    }
   }
  }
 ],
 "metadata": {
  "kernelspec": {
   "display_name": "Python 3",
   "language": "python",
   "name": "python3"
  },
  "language_info": {
   "codemirror_mode": {
    "name": "ipython",
    "version": 2
   },
   "file_extension": ".py",
   "mimetype": "text/x-python",
   "name": "python",
   "nbconvert_exporter": "python",
   "pygments_lexer": "ipython2",
   "version": "2.7.6"
  }
 },
 "nbformat": 4,
 "nbformat_minor": 0
}