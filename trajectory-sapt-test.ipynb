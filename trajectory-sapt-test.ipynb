{
 "cells": [
  {
   "cell_type": "markdown",
   "source": [
    "#Trajectory SAPT Analysis\n",
    "###Imports"
   ],
   "metadata": {
    "collapsed": false
   }
  },
  {
   "cell_type": "code",
   "execution_count": 1,
   "outputs": [],
   "source": [
    "import MDAnalysis as mda\n",
    "import psi4\n",
    "import matplotlib.pyplot as plt"
   ],
   "metadata": {
    "collapsed": false,
    "pycharm": {
     "name": "#%%\n"
    }
   }
  },
  {
   "cell_type": "markdown",
   "source": [
    "###Defining SAPT calculator function"
   ],
   "metadata": {
    "collapsed": false,
    "pycharm": {
     "name": "#%% md\n"
    }
   }
  },
  {
   "cell_type": "code",
   "execution_count": null,
   "outputs": [],
   "source": [
    "def calculate_spat(selections: list, protein: mda.Universe):\n",
    "    # Writes xyz coords from trajectory\n",
    "    def write_xyz(selection, universe):\n",
    "        group = universe.select_atoms('resid')\n",
    "        items = selection.split()\n",
    "        name = ''\n",
    "        for item in items:\n",
    "            if item != 'and' or item != 'resid' or item != 'name':\n",
    "                name += '_' + item\n",
    "        with mda.Writer(( name + '.xyz'), group.n_atoms) as coords:\n",
    "            coords.write(group)\n",
    "        return\n",
    "\n",
    "    # Gets xyz data from saved coords\n",
    "    def read_xyz(selection):\n",
    "        path = selection + '.xyz'\n",
    "        xyz_data = []\n",
    "        with open(path, 'r') as coord_file:\n",
    "            coord_data = coord_file.readlines()[1:]\n",
    "            images = 0\n",
    "            for line in coord_data:\n",
    "                if line == '\\n':\n",
    "                    images += 1\n",
    "\n",
    "            for line in coord_data:\n",
    "                if '.' in line:\n",
    "                    xyz_data.append(line)\n",
    "        return xyz_data\n",
    "\n",
    "    # Saves coords as a string\n",
    "    def save_coords(coords0, coords1):\n",
    "        coord_data = '0 1\\n'\n",
    "\n",
    "        for line in coords0:\n",
    "            coord_data += line\n",
    "\n",
    "        coord_data += '--\\n'\n",
    "        coord_data += '0 1\\n'\n",
    "\n",
    "        for line in coords1:\n",
    "            coord_data += line\n",
    "\n",
    "        coord_data += 'units angstrom'\n",
    "        return coord_data\n",
    "\n",
    "\n",
    "    write_xyz(selections[0], protein)\n",
    "    write_xyz(selections[1], protein)\n",
    "\n",
    "    group0_coords = read_xyz(selections[0])\n",
    "    group1_coords = read_xyz(selections[1])\n",
    "\n",
    "    psi_in = save_coords(group0_coords, group1_coords)\n",
    "    dimer = psi4.geometry(psi_in)\n",
    "\n",
    "    psi4.set_options({'scf_type': 'df',\n",
    "                      'freeze_core': 'true'})\n",
    "    energy = psi4.energy('spat0/jun-cc-pvdz', molecule=dimer)\n",
    "    return energy"
   ],
   "metadata": {
    "collapsed": false,
    "pycharm": {
     "name": "#%%\n"
    }
   }
  },
  {
   "cell_type": "markdown",
   "source": [
    "###Creates plot from SAPT calculation"
   ],
   "metadata": {
    "collapsed": false,
    "pycharm": {
     "name": "#%% md\n"
    }
   }
  },
  {
   "cell_type": "code",
   "execution_count": null,
   "outputs": [],
   "source": [
    "if __name__ == '__main__':\n",
    "    # Test files\n",
    "    topology = 'testfiles/testtop.psf'\n",
    "    trajectory = 'testfiles/testtraj.dcd'\n",
    "\n",
    "    test_unv = mda.Universe(topology, trajectory)\n",
    "    time_list = []\n",
    "    energies = []\n",
    "\n",
    "    for ts in test_unv.trajectory:\n",
    "        time_list.append(ts)\n",
    "        energies.append(calculate_spat([1, 2], test_unv))\n",
    "\n",
    "\n",
    "    plt.plot(time_list, energies, label='Energy')\n",
    "    plt.xlabel('Time(ns)')\n",
    "    plt.ylabel('Energy')\n",
    "    plt.savefig('SAPT.png', dpi=1200)\n"
   ],
   "metadata": {
    "collapsed": false,
    "pycharm": {
     "name": "#%%\n"
    }
   }
  }
 ],
 "metadata": {
  "kernelspec": {
   "display_name": "Python 3",
   "language": "python",
   "name": "python3"
  },
  "language_info": {
   "codemirror_mode": {
    "name": "ipython",
    "version": 2
   },
   "file_extension": ".py",
   "mimetype": "text/x-python",
   "name": "python",
   "nbconvert_exporter": "python",
   "pygments_lexer": "ipython2",
   "version": "2.7.6"
  }
 },
 "nbformat": 4,
 "nbformat_minor": 0
}