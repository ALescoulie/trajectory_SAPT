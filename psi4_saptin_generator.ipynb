{
 "cells": [
  {
   "cell_type": "markdown",
   "source": [
    "#Trajectory SAPT Input Generators\n",
    "Generates psi4 input files from a trajectory loaded in MDAnalysis. Set parameters for generating input files based on the instructions below. Execute the cells in order to ensure that all values are correct prior to generating the input files."
   ],
   "metadata": {
    "collapsed": false
   }
  },
  {
   "cell_type": "code",
   "execution_count": 4,
   "outputs": [],
   "source": [
    "from MDAnalysis.analysis.base import AnalysisBase\n",
    "import MDAnalysis as mda\n",
    "import os\n",
    "\n",
    "\n",
    "def write_xyz(selection: str, universe: mda.Universe, pathname: str):\n",
    "    group = universe.select_atoms(selection)\n",
    "\n",
    "    pathname += '.xyz'\n",
    "    with mda.Writer(pathname, group.n_atoms) as coords:\n",
    "        coords.write(group)\n",
    "\n",
    "\n",
    "def read_xyz(xyz_path):\n",
    "    with open(xyz_path, 'r') as coord_file:\n",
    "        xyz_data = []\n",
    "        coord_data = coord_file.readlines()[2:]\n",
    "\n",
    "        for line in coord_data:\n",
    "            if '.' in line:\n",
    "                xyz_data.append(line)\n",
    "        return xyz_data\n",
    "\n",
    "\n",
    "def save_sapt_in(coords0: list, coords1: list, memory: int, path: str, molecule_name: str):\n",
    "    coord_data = 'molecule %s {\\n' % molecule_name\n",
    "    coord_data += '0 1\\n'\n",
    "\n",
    "    for line0 in coords0:\n",
    "        items = line0.split()\n",
    "        line0 = items[0][0]\n",
    "        for item in items[1:]:\n",
    "            line0 += (' ' + item)\n",
    "        coord_data += (line0 + '\\n')\n",
    "\n",
    "    coord_data += '--\\n'\n",
    "    coord_data += '-1 1\\n'\n",
    "\n",
    "    for line1 in coords1:\n",
    "        items = line1.split()\n",
    "        line1 = items[0][0]\n",
    "        for item in items[1:]:\n",
    "            line1 += (' ' + item)\n",
    "        coord_data += (line1 + '\\n')\n",
    "\n",
    "    coord_data += '\\nunits angstrom\\n' \\\n",
    "                  '\\n' \\\n",
    "                  '}\\n' \\\n",
    "                  '\\nset {\\n' \\\n",
    "                  'basis jun-cc-pVDZ\\n' \\\n",
    "                  'scf_type df\\n' \\\n",
    "                  'freeze_core true\\n' \\\n",
    "                  '}\\n'\n",
    "\n",
    "    coord_data += '\\n' + 'memory ' + str(memory) + 'GB\\n'\n",
    "\n",
    "    coord_data += \"\\nenergy('sapt0')\\n\"\n",
    "\n",
    "    with open(path, 'w+') as input_file:\n",
    "        for line in coord_data:\n",
    "            input_file.write(line)\n",
    "\n",
    "\n",
    "def check_inputs(selection: list, start: int, stop: int, step: int, universe: mda.Universe):\n",
    "    ag_sel = selection[0]\n",
    "    ag_names = selection[1]\n",
    "    ag_pair = selection[2]\n",
    "\n",
    "    # Testing names and selections\n",
    "    if len(ag_sel) > len(ag_names):\n",
    "        raise InputError('Not all selections are named')\n",
    "    elif len(ag_sel) < len(ag_names):\n",
    "        raise InputError('Too many selection names for number of selections')\n",
    "\n",
    "    for sel in ag_sel:\n",
    "        try:\n",
    "            ag = universe.select_atoms(sel)\n",
    "        except mda.SelectionError:\n",
    "            raise InputError('Error in selection: {}'.format(sel))\n",
    "\n",
    "    for pair in ag_pair:\n",
    "        if len(pair) != 2:\n",
    "            raise InputError('Pairs must be a python list of string with only two items')\n",
    "        found0 = False\n",
    "        found1 = False\n",
    "        for name in ag_names:\n",
    "            if pair[0] == name:\n",
    "                found0 = True\n",
    "            if pair[1] == name:\n",
    "                found1 = True\n",
    "        if found0 is False:\n",
    "            raise InputError(f'{pair[0]} in {pair} group_pair_selections is not in defined in atom_group_names')\n",
    "        if found1 is False:\n",
    "            raise InputError(f'{pair[1]} in {pair} group_pair_selections is not in defined in atom_group_names')\n",
    "\n",
    "        if start >= stop:\n",
    "            raise InputError('Start is greater than or equal to stop')\n",
    "        if step >= stop:\n",
    "            raise InputError('Step is greater than or equal to stop')\n",
    "\n",
    "        if len(universe.trajectory) < stop:\n",
    "            raise InputError(f'Stop exceeds length of trajectory, trajectory is {len(universe.trajectory)} frames')\n",
    "\n",
    "    print('Input Parameters Accepted')\n",
    "\n",
    "\n",
    "class InputError(Exception):\n",
    "    pass\n",
    "\n",
    "\n",
    "class Psi4SAPTGenerator(AnalysisBase):\n",
    "    def __init__(self, universe: mda.Universe, sapt_selections: list, sapt_memory: int, input_directory: str, mol_name: str):\n",
    "        super(Psi4SAPTGenerator, self).__init__(universe.trajectory)\n",
    "        self._unv = universe\n",
    "        self._sel = sapt_selections\n",
    "        self._mem = sapt_memory\n",
    "        self._dir = input_directory\n",
    "        self._mol = mol_name\n",
    "\n",
    "    def _prepare(self):\n",
    "        \"\"\"Defining data structures, selection_coords contains MDAnalysis selection commands,\n",
    "         selections names contains names of the atom groups selected, and interaction_pairs\n",
    "         contains the atom group names in list pairs. selections are pre-verified by check_inputs\"\"\"\n",
    "        self.selection_coords = self._sel[0]\n",
    "        self.selection_names = self._sel[1]\n",
    "        self.interaction_pairs = self._sel[2]\n",
    "\n",
    "    def _single_frame(self):\n",
    "        \"\"\"Saves coordinates for selected atom groups as .xyz files at each frame. The .xyz files are\n",
    "        then read, coordinates are saved as a list, and the lists for each pair are writen into a sapt.in\n",
    "        file. The sapt.in files are named based on the frame number and atoms group names. After generating files\n",
    "        for the current frame the .xyz files are removed.\"\"\"\n",
    "        for ind in range(len(self.selection_coords)):\n",
    "            write_xyz(self.selection_coords[ind], self._unv, f'{self._dir}/{self.selection_names[ind]}')\n",
    "\n",
    "        time = int(self._unv.trajectory.time)\n",
    "        name = f'{self._mol}_{time}'\n",
    "        for pair in self.interaction_pairs:\n",
    "            coords0 = read_xyz(f'{self._dir}/{pair[0]}.xyz')\n",
    "            coords1 = read_xyz(f'{self._dir}/{pair[1]}.xyz')\n",
    "\n",
    "            path = f'{self._dir}/frame{time}_{pair[0]}_{pair[1]}.in'\n",
    "            save_sapt_in(coords0, coords1, self._mem, path, name)\n",
    "\n",
    "        for path in self.selection_names:\n",
    "            path = f'{self._dir}/{path}.xyz'\n",
    "            os.remove(path)\n"
   ],
   "metadata": {
    "collapsed": false,
    "pycharm": {
     "name": "#%%\n"
    }
   }
  },
  {
   "cell_type": "markdown",
   "source": [
    "Using the below variables input the name of the directory the input files will be stored in, the name of the molecule, path to the topology, and trajectory or trajectories being analyzed."
   ],
   "metadata": {
    "collapsed": false,
    "pycharm": {
     "name": "#%% md\n"
    }
   }
  },
  {
   "cell_type": "code",
   "execution_count": null,
   "outputs": [],
   "source": [
    "if __name__ == '__main__':\n",
    "    return_file_dir = ''\n",
    "    molecule_name = ''\n",
    "    topology = ''\n",
    "    trajectory = ['']\n",
    "\n",
    "    # Saving simulation data as an MDAnalysis Universe object\n",
    "    unv = mda.Universe(topology, trajectory)"
   ],
   "metadata": {
    "collapsed": false,
    "pycharm": {
     "name": "#%%\n"
    }
   }
  },
  {
   "cell_type": "markdown",
   "source": [
    "Add the [MDAnalysis selections](https://docs.mdanalysis.org/stable/documentation_pages/selections.html) for the atom groups the list as strings."
   ],
   "metadata": {
    "collapsed": false,
    "pycharm": {
     "name": "#%% md\n"
    }
   }
  },
  {
   "cell_type": "code",
   "execution_count": null,
   "outputs": [],
   "source": [
    "    atom_group_selections = []"
   ],
   "metadata": {
    "collapsed": false,
    "pycharm": {
     "name": "#%%\n"
    }
   }
  },
  {
   "cell_type": "markdown",
   "source": [
    "Add the names for the atom group selections above in the below list for use in generating file paths, ensure that the name are listed in the same order as their corresponding selections above."
   ],
   "metadata": {
    "collapsed": false,
    "pycharm": {
     "name": "#%% md\n"
    }
   }
  },
  {
   "cell_type": "code",
   "execution_count": null,
   "outputs": [],
   "source": [
    "    atom_group_names = []"
   ],
   "metadata": {
    "collapsed": false,
    "pycharm": {
     "name": "#%%\n"
    }
   }
  },
  {
   "cell_type": "markdown",
   "source": [
    "Add the names of each group for the SAPT energy calculation pairs in a list withing the group pair selections list.\n",
    "\n",
    "Ex:\n",
    "```python\n",
    "   group_pair_selections = [['ATP', 'Glu144'], ['ATP', 'Met146']]\n",
    "```"
   ],
   "metadata": {
    "collapsed": false,
    "pycharm": {
     "name": "#%% md\n"
    }
   }
  },
  {
   "cell_type": "code",
   "execution_count": null,
   "outputs": [],
   "source": [
    "    group_pair_selections = []"
   ],
   "metadata": {
    "collapsed": false,
    "pycharm": {
     "name": "#%%\n"
    }
   }
  },
  {
   "cell_type": "markdown",
   "source": [
    "    Set the trajectory frame interval for generating input files, and the memory in gb as integers."
   ],
   "metadata": {
    "collapsed": false,
    "pycharm": {
     "name": "#%% md\n"
    }
   }
  },
  {
   "cell_type": "code",
   "execution_count": null,
   "outputs": [],
   "source": [
    "    start = 0\n",
    "    stop = 0\n",
    "    step = 0\n",
    "    memory = 0"
   ],
   "metadata": {
    "collapsed": false,
    "pycharm": {
     "name": "#%%\n"
    }
   }
  },
  {
   "cell_type": "markdown",
   "source": [
    "Verifying inputs, ensuring that user inputted values are valid inputs for the given trajectory."
   ],
   "metadata": {
    "collapsed": false,
    "pycharm": {
     "name": "#%% md\n"
    }
   }
  },
  {
   "cell_type": "code",
   "execution_count": null,
   "outputs": [],
   "source": [
    "    selections = [atom_group_selections, atom_group_names, group_pair_selections]\n",
    "    check_inputs(selections, start, stop, step, unv)"
   ],
   "metadata": {
    "collapsed": false,
    "pycharm": {
     "name": "#%%\n"
    }
   }
  },
  {
   "cell_type": "markdown",
   "source": [
    "Generating inputs. Ensure all parameters are correct and have been validated by the cell above."
   ],
   "metadata": {
    "collapsed": false,
    "pycharm": {
     "name": "#%% md\n"
    }
   }
  },
  {
   "cell_type": "code",
   "execution_count": null,
   "outputs": [],
   "source": [
    "    Psi4SAPTGenerator(unv, selections, memory, return_file_dir, molecule_name).run(start, stop, step)"
   ],
   "metadata": {
    "collapsed": false,
    "pycharm": {
     "name": "#%%\n"
    }
   }
  }
 ],
 "metadata": {
  "kernelspec": {
   "display_name": "Python 3",
   "language": "python",
   "name": "python3"
  },
  "language_info": {
   "codemirror_mode": {
    "name": "ipython",
    "version": 2
   },
   "file_extension": ".py",
   "mimetype": "text/x-python",
   "name": "python",
   "nbconvert_exporter": "python",
   "pygments_lexer": "ipython2",
   "version": "2.7.6"
  }
 },
 "nbformat": 4,
 "nbformat_minor": 0
}