{
 "cells": [
  {
   "cell_type": "markdown",
   "source": [
    "#Trajectory SAPT Input Generators\n",
    "Generates psi4 input files from a trajectory in MDAnalysis.\n",
    "\n",
    "###Imports"
   ],
   "metadata": {
    "collapsed": false
   }
  },
  {
   "cell_type": "code",
   "execution_count": 4,
   "outputs": [],
   "source": [
    "import MDAnalysis as mda\n",
    "from MDAnalysis.analysis.base import AnalysisBase"
   ],
   "metadata": {
    "collapsed": false,
    "pycharm": {
     "name": "#%%\n"
    }
   }
  },
  {
   "cell_type": "markdown",
   "source": [
    "###Defining Read Write Functions"
   ],
   "metadata": {
    "collapsed": false,
    "pycharm": {
     "name": "#%% md\n"
    }
   }
  },
  {
   "cell_type": "code",
   "execution_count": 5,
   "outputs": [],
   "source": [
    "# Saves xyz file and returns path\n",
    "def write_xyz(selection: str, universe: mda.Universe) -> str:\n",
    "        group = universe.select_atoms('resid ' + selection)\n",
    "        path = 'resid' + selection +'.xyz'\n",
    "\n",
    "        with mda.Writer(path, group.n_atoms) as coords:\n",
    "            coords.write(group)\n",
    "        return path\n",
    "\n",
    "# Gets xyz data from saved coords\n",
    "def read_xyz(xyz_path: str) -> list:\n",
    "    with open(xyz_path, 'r') as coord_file:\n",
    "        xyz_data =[]\n",
    "        coord_data = coord_file.readlines()[1:]\n",
    "        images = 0\n",
    "        for line in coord_data:\n",
    "            if line == '\\n':\n",
    "                images += 1\n",
    "\n",
    "        for line in coord_data:\n",
    "            if '.' in line:\n",
    "                xyz_data.append(line)\n",
    "        return xyz_data\n",
    "\n",
    "# Saves coords as a string\n",
    "def save_sapt_in(coords0: list, coords1: list, memory: int, path: str) -> str:\n",
    "    coord_data = '0 1\\n'\n",
    "\n",
    "    for line in coords0:\n",
    "        if '|' not in line:\n",
    "            items = line.split()\n",
    "            line = ''\n",
    "            items[0] = items[0][0]\n",
    "            for item in items:\n",
    "                item += (' ' + item)\n",
    "                coord_data += (line + '\\n')\n",
    "\n",
    "        coord_data += '--\\n'\n",
    "        coord_data += '-1 1\\n'\n",
    "\n",
    "    for line in coords1:\n",
    "        if '|' not in line:\n",
    "            items = line.split()\n",
    "            item = ''\n",
    "            items[0] = items[0][0]\n",
    "            for item in items:\n",
    "                line += (' ' + item)\n",
    "            coord_data += (line + '\\n')\n",
    "\n",
    "    coord_data += ''\n",
    "    coord_data += 'units angstrom\\n ' \\\n",
    "                  '\\n' \\\n",
    "                  '}\\n' \\\n",
    "                  '\\nset\\n' \\\n",
    "                  '{basis jun-cc-pVDZ\\n' \\\n",
    "                  'scf_type df\\n' \\\n",
    "                  'freeze_core\\n' \\\n",
    "                  '{\\n'\n",
    "\n",
    "    coord_data += '\\n' + 'memory ' + str(memory) +'GB\\n'\n",
    "\n",
    "    coord_data += \"energy('sapt0')\"\n",
    "\n",
    "    with open(path, 'w+') as input_file:\n",
    "        for line in coord_data:\n",
    "            input_file.write(line)\n",
    "    return path\n",
    "\n",
    "\n",
    "class Psi4SAPTGenerator(AnalysisBase):\n",
    "    def __init__(self, universe: mda.Universe, selections: list, memory: int):\n",
    "        super(Psi4SAPTGenerator).__init__(universe.trajectory)\n",
    "        self._unv = universe\n",
    "        self._sel = selections\n",
    "\n",
    "    def _prepare(self):\n",
    "        self.time_list = []\n",
    "        self.selection_coords = self._sel[1]\n",
    "        self.interaction_pairs = self._sel[2]\n",
    "        self.xyz_paths = []\n",
    "\n",
    "\n",
    "\n",
    "    def _single_frame(self):\n",
    "        for group in self.selection_coords:\n",
    "            self.xyz_paths.append(write_xyz(group, self._unv))\n",
    "\n",
    "\n",
    "\n",
    "    def _conclude(self):\n",
    "        pass"
   ],
   "metadata": {
    "collapsed": false,
    "pycharm": {
     "name": "#%%\n"
    }
   }
  },
  {
   "cell_type": "markdown",
   "source": [
    "### Main\n",
    "Enter the path to topology and trajectory"
   ],
   "metadata": {
    "collapsed": false,
    "pycharm": {
     "name": "#%% md\n"
    }
   }
  },
  {
   "cell_type": "code",
   "execution_count": null,
   "outputs": [],
   "source": [
    "if __name__ == '__main__':\n",
    "    # Importing files and defining universe\n",
    "    topology = 'testfiles/testtop.psf'\n",
    "    trajectory = 'testfiles/testtraj.dcd'\n",
    "    test_unv = mda.Universe(topology, trajectory)\n",
    "\n",
    "    # Defining atoms group and interaction pair selections\n",
    "    atom_group_selections = []\n",
    "    group_pair_selections = []\n",
    "    selection = [atom_group_selections, group_pair_selections]\n",
    "\n",
    "\n",
    "\n",
    "\n"
   ],
   "metadata": {
    "collapsed": false,
    "pycharm": {
     "name": "#%%\n"
    }
   }
  }
 ],
 "metadata": {
  "kernelspec": {
   "display_name": "Python 3",
   "language": "python",
   "name": "python3"
  },
  "language_info": {
   "codemirror_mode": {
    "name": "ipython",
    "version": 2
   },
   "file_extension": ".py",
   "mimetype": "text/x-python",
   "name": "python",
   "nbconvert_exporter": "python",
   "pygments_lexer": "ipython2",
   "version": "2.7.6"
  }
 },
 "nbformat": 4,
 "nbformat_minor": 0
}